{
  "nbformat": 4,
  "nbformat_minor": 0,
  "metadata": {
    "colab": {
      "provenance": [],
      "authorship_tag": "ABX9TyM0LurUR5ztQ86kgA+8HTrJ",
      "include_colab_link": true
    },
    "kernelspec": {
      "name": "python3",
      "display_name": "Python 3"
    },
    "language_info": {
      "name": "python"
    }
  },
  "cells": [
    {
      "cell_type": "markdown",
      "metadata": {
        "id": "view-in-github",
        "colab_type": "text"
      },
      "source": [
        "<a href=\"https://colab.research.google.com/github/Hananhindawi/DATANALYTICS/blob/DATATANALYTICS/Untitled1.ipynb\" target=\"_parent\"><img src=\"https://colab.research.google.com/assets/colab-badge.svg\" alt=\"Open In Colab\"/></a>"
      ]
    },
    {
      "cell_type": "code",
      "execution_count": 2,
      "metadata": {
        "colab": {
          "base_uri": "https://localhost:8080/"
        },
        "id": "sSQuTjjQsmDO",
        "outputId": "dcf98a84-9624-4350-8b7c-608d637a942b"
      },
      "outputs": [
        {
          "output_type": "stream",
          "name": "stdout",
          "text": [
            "Making predictions for the following 5 houses:\n",
            "   total_rooms  total_bedrooms  latitude  longitude\n",
            "0       3885.0           661.0     37.37    -122.05\n",
            "1       1510.0           310.0     34.26    -118.30\n",
            "2       3589.0           507.0     33.78    -117.81\n",
            "3         67.0            15.0     33.82    -118.36\n",
            "4       1241.0           244.0     36.33    -119.67\n",
            "The predictions are\n",
            "[344700. 176500. 270500. 330000.  81700.]\n"
          ]
        }
      ],
      "source": [
        "import pandas as pd\n",
        "\n",
        "melbourne_file_path = '../content/sample_data/california_housing_test.csv'\n",
        "\n",
        "melbourne_data = pd.read_csv(melbourne_file_path)\n",
        "\n",
        "melbourne_data.columns\n",
        "\n",
        "\n",
        "\n",
        "melbourne_data.head(100)\n",
        "\n",
        "y = melbourne_data.median_house_value\n",
        "\n",
        "melbourne_features = [ 'total_rooms', 'total_bedrooms', 'latitude', 'longitude']\n",
        "\n",
        "X = melbourne_data[melbourne_features]\n",
        "\n",
        "\n",
        "\n",
        "from sklearn.tree import DecisionTreeRegressor\n",
        "\n",
        "# Define model. Specify a number for random_state to ensure same results each run\n",
        "\n",
        "melbourne_model = DecisionTreeRegressor(random_state=1)\n",
        "\n",
        "# Fit model\n",
        "\n",
        "melbourne_model.fit(X, y)\n",
        "\n",
        "print(\"Making predictions for the following 5 houses:\")\n",
        "\n",
        "print(X.head())\n",
        "\n",
        "print(\"The predictions are\")\n",
        "\n",
        "print(melbourne_model.predict(X.head()))"
      ]
    }
  ]
}